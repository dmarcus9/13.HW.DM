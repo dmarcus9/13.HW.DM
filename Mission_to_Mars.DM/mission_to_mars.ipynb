{
 "cells": [
  {
   "cell_type": "code",
   "execution_count": 26,
   "metadata": {},
   "outputs": [],
   "source": [
    "from splinter import Browser\n",
    "from bs4 import BeautifulSoup"
   ]
  },
  {
   "cell_type": "code",
   "execution_count": 27,
   "metadata": {},
   "outputs": [],
   "source": [
    "# Set the executable path and initialize the chrome browser in splinter\n",
    "executable_path = {'executable_path': '/usr/local/bin/chromedriver'}\n",
    "browser = Browser('chrome', **executable_path)"
   ]
  },
  {
   "cell_type": "code",
   "execution_count": 28,
   "metadata": {},
   "outputs": [],
   "source": [
    "url = \"https://mars.nasa.gov/news/\"\n",
    "browser.visit(url)\n",
    "html = browser.html\n",
    "soup = BeautifulSoup(html, 'html.parser')"
   ]
  },
  {
   "cell_type": "code",
   "execution_count": 29,
   "metadata": {},
   "outputs": [
    {
     "data": {
      "text/plain": [
       "\"Five Things to Know About InSight's Mars Landing\""
      ]
     },
     "execution_count": 29,
     "metadata": {},
     "output_type": "execute_result"
    }
   ],
   "source": [
    "news_title = soup.find('div', class_='content_title').a.text\n",
    "news_title"
   ]
  },
  {
   "cell_type": "code",
   "execution_count": 30,
   "metadata": {},
   "outputs": [
    {
     "data": {
      "text/plain": [
       "\"NASA engineers will be holding their breath when their spacecraft heads into Mars' atmosphere on Nov. 26.\""
      ]
     },
     "execution_count": 30,
     "metadata": {},
     "output_type": "execute_result"
    }
   ],
   "source": [
    "news_paragraph = soup.find('div', class_='article_teaser_body').get_text()\n",
    "news_paragraph"
   ]
  },
  {
   "cell_type": "code",
   "execution_count": null,
   "metadata": {},
   "outputs": [],
   "source": [
    "# step b"
   ]
  },
  {
   "cell_type": "code",
   "execution_count": 77,
   "metadata": {},
   "outputs": [],
   "source": [
    "url = \"https://www.jpl.nasa.gov/spaceimages/?search=&category=Mars\"\n",
    "browser.visit(url)\n",
    "# splinter clicked button for me to get full image\n",
    "browser.click_link_by_id('full_image')\n",
    "# grab html after click is important\n",
    "html = browser.html\n",
    "soup = BeautifulSoup(html, 'html.parser')\n",
    "# inspected to find appropriate details\n",
    "featured_image_url = soup.find('img', class_='fancybox-image').get('src')"
   ]
  },
  {
   "cell_type": "code",
   "execution_count": null,
   "metadata": {},
   "outputs": [],
   "source": [
    "# step c"
   ]
  },
  {
   "cell_type": "code",
   "execution_count": 78,
   "metadata": {},
   "outputs": [],
   "source": [
    "url = \"https://twitter.com/marswxreport?lang=en\"\n",
    "browser.visit(url)\n",
    "html = browser.html\n",
    "soup = BeautifulSoup(html, 'html.parser')\n",
    "mars_weather = soup.find('div', class_='js-tweet-text-container').p.text"
   ]
  },
  {
   "cell_type": "code",
   "execution_count": null,
   "metadata": {},
   "outputs": [],
   "source": [
    "### d) Mars Facts "
   ]
  },
  {
   "cell_type": "code",
   "execution_count": 80,
   "metadata": {},
   "outputs": [],
   "source": [
    "# * Visit the Mars Facts webpage [here]\n",
    "# (http://space-facts.com/mars/) \n",
    "# and use Pandas to scrape the table containing facts about the planet \n",
    "# including Diameter, Mass, etc.\n",
    "# * Use Pandas to convert the data to a HTML table string.\n",
    "\n",
    "# pandas (python package) is good for scraping tables\n",
    "import pandas as pd\n",
    "url = 'http://space-facts.com/mars/'\n",
    "# adding \"[0]\" makes it a df, not a list\n",
    "Mars_Facts_from_table = pd.read_html(url)[0]\n",
    "Mars_Facts_from_table.columns = [\"characteristics\", \"value\"]\n",
    "Mars_Facts_from_table.set_index(\"characteristics\", inplace =True) \n",
    "# 2.9 activity...Pandas also had a `to_html` method that we can use to generate HTML tables from DataFrames.\n",
    "html_Mars_Facts_from_table = Mars_Facts_from_table.to_html()"
   ]
  },
  {
   "cell_type": "code",
   "execution_count": null,
   "metadata": {},
   "outputs": [],
   "source": [
    "# step e"
   ]
  },
  {
   "cell_type": "code",
   "execution_count": 14,
   "metadata": {},
   "outputs": [
    {
     "data": {
      "text/plain": [
       "'http://astropedia.astrogeology.usgs.gov/download/Mars/Viking/cerberus_enhanced.tif/full.jpg'"
      ]
     },
     "execution_count": 14,
     "metadata": {},
     "output_type": "execute_result"
    }
   ],
   "source": [
    "# Visit the USGS Astrogeology site:\n",
    "url = 'https://astrogeology.usgs.gov/search/results?q=hemisphere+enhanced&k1=target&v1=Mars'\n",
    "browser.visit(url)\n",
    "# use the click method from splinter to click links, \n",
    "# to obtain high/full resolution images for each of 4 Mar's hemispheres.  \n",
    "browser.click_link_by_partial_text('Cerberus')\n",
    "\n",
    "html = browser.html\n",
    "hem_soup = BeautifulSoup(html, 'html.parser')\n",
    "# Save both the image url string for the full resolution hemisphere image, \n",
    "# and the Hemisphere title containing the hemisphere name. \n",
    "Hemi_image1_Cerberus = hem_soup.find('a', target= \"_blank\").get('href')\n",
    "Hemi_title1_Cerberus = hem_soup.find('h2', class_= \"title\").text\n",
    "\n",
    "Hemi_image1_Cerberus\n",
    "# <a target=\"_blank\" href=\"http://astropedia.astrogeology.usgs.gov/download/Mars/Viking/cerberus_enhanced.tif/full.jpg\">Sample</a>"
   ]
  },
  {
   "cell_type": "code",
   "execution_count": 16,
   "metadata": {},
   "outputs": [],
   "source": [
    "# to go back a page in browser\n",
    "browser.back()\n",
    "# then click the next image\n",
    "browser.click_link_by_partial_text('Schiaparelli')\n",
    "\n",
    "html = browser.html\n",
    "hem_soup = BeautifulSoup(html, 'html.parser')\n",
    "\n",
    "Hemi_image2_Schiaparelli = hem_soup.find('a', target= \"_blank\").get('href')\n",
    "Hemi_title2_Schiaparelli = hem_soup.find('h2', class_= \"title\").text"
   ]
  },
  {
   "cell_type": "code",
   "execution_count": 17,
   "metadata": {},
   "outputs": [],
   "source": [
    "browser.back()\n",
    "browser.click_link_by_partial_text('Syrtis')\n",
    "html = browser.html\n",
    "hem_soup = BeautifulSoup(html, 'html.parser')\n",
    "Hemi_image3_Syrtis = hem_soup.find('a', target= \"_blank\").get('href')\n",
    "Hemi_title3_Syrtis = hem_soup.find('h2', class_= \"title\").text"
   ]
  },
  {
   "cell_type": "code",
   "execution_count": 18,
   "metadata": {},
   "outputs": [],
   "source": [
    "browser.back()\n",
    "browser.click_link_by_partial_text('Valles')\n",
    "html = browser.html\n",
    "hem_soup = BeautifulSoup(html, 'html.parser')\n",
    "Hemi_image4_Valles = hem_soup.find('a', target= \"_blank\").get('href')\n",
    "Hemi_title4_Valles = hem_soup.find('h2', class_= \"title\").text"
   ]
  },
  {
   "cell_type": "code",
   "execution_count": 19,
   "metadata": {},
   "outputs": [
    {
     "data": {
      "text/plain": [
       "[{'title': 'Cerberus Hemisphere Enhanced',\n",
       "  'img_url': 'http://astropedia.astrogeology.usgs.gov/download/Mars/Viking/cerberus_enhanced.tif/full.jpg'},\n",
       " {'title': 'Schiaparelli Hemisphere Unenhanced',\n",
       "  'img_url': 'http://astropedia.astrogeology.usgs.gov/download/Mars/Viking/schiaparelli_unenhanced.tif/full.jpg'},\n",
       " {'title': 'Syrtis Major Hemisphere Unenhanced',\n",
       "  'img_url': 'http://astropedia.astrogeology.usgs.gov/download/Mars/Viking/syrtis_major_unenhanced.tif/full.jpg'},\n",
       " {'title': 'Valles Marineris Hemisphere Unenhanced',\n",
       "  'img_url': 'http://astropedia.astrogeology.usgs.gov/download/Mars/Viking/valles_marineris_unenhanced.tif/full.jpg'}]"
      ]
     },
     "execution_count": 19,
     "metadata": {},
     "output_type": "execute_result"
    }
   ],
   "source": [
    "# Use a Python dictionary to store the data using the keys `img_url` and `title`.\n",
    "Mars_Hemi_Dict = [\n",
    "    {\"title\": Hemi_title1_Cerberus, \"img_url\": Hemi_image1_Cerberus},\n",
    "    {\"title\": Hemi_title2_Schiaparelli, \"img_url\": Hemi_image2_Schiaparelli},\n",
    "    {\"title\": Hemi_title3_Syrtis, \"img_url\": Hemi_image3_Syrtis},\n",
    "    {\"title\": Hemi_title4_Valles, \"img_url\": Hemi_image4_Valles}\n",
    "]\n",
    "Mars_Hemi_Dict"
   ]
  },
  {
   "cell_type": "code",
   "execution_count": null,
   "metadata": {},
   "outputs": [],
   "source": [
    "### e) Mars Hemispheres\n",
    "repeat for next 3 hemispheres, or use a for loop\n",
    "a loop will work best here, but get it working first before attempting the loop\n",
    "\n",
    "this will save as a list of links, just like the featured_img_url\n",
    "\n",
    "* Append the dictionary with the image url string and the hemisphere title to a list. \n",
    "This list will contain one dictionary for each hemisphere.\n",
    "\n",
    "```python\n",
    "# Example:\n",
    "hemisphere_image_urls = [\n",
    "    {\"title\": \"Valles Marineris Hemisphere\", \"img_url\": \"...\"},\n",
    "    {\"title\": \"Cerberus Hemisphere\", \"img_url\": \"...\"},\n",
    "    {\"title\": \"Schiaparelli Hemisphere\", \"img_url\": \"...\"},\n",
    "    {\"title\": \"Syrtis Major Hemisphere\", \"img_url\": \"...\"},\n",
    "]"
   ]
  },
  {
   "cell_type": "code",
   "execution_count": null,
   "metadata": {},
   "outputs": [],
   "source": [
    "when rendering with jinja in `index.html` you will need to use a loop in jinja formatting like this\n",
    "\n",
    "{% for hemisphere in mars_data['hemispheres'] %}\n",
    "<img src='{{ hemisphere }}' />\n",
    "\n",
    "{% endfor %}"
   ]
  },
  {
   "cell_type": "code",
   "execution_count": null,
   "metadata": {},
   "outputs": [],
   "source": []
  }
 ],
 "metadata": {
  "kernelspec": {
   "display_name": "PythonData",
   "language": "python",
   "name": "pythondata"
  },
  "language_info": {
   "codemirror_mode": {
    "name": "ipython",
    "version": 3
   },
   "file_extension": ".py",
   "mimetype": "text/x-python",
   "name": "python",
   "nbconvert_exporter": "python",
   "pygments_lexer": "ipython3",
   "version": "3.6.5"
  }
 },
 "nbformat": 4,
 "nbformat_minor": 2
}
